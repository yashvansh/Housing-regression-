{
 "cells": [
  {
   "cell_type": "code",
   "execution_count": 4,
   "id": "14b94cae",
   "metadata": {},
   "outputs": [
    {
     "name": "stdout",
     "output_type": "stream",
     "text": [
      "⬆️ Uploading /Users/riadanas/Desktop/housing regression MLE/data/processed/feature_engineered_holdout.csv → s3://housing-regression-data/processed/feature_engineered_holdout.csv\n",
      "⬆️ Uploading /Users/riadanas/Desktop/housing regression MLE/data/processed/cleaning_holdout.csv → s3://housing-regression-data/processed/cleaning_holdout.csv\n",
      "⬆️ Uploading /Users/riadanas/Desktop/housing regression MLE/data/processed/feature_engineered_train.csv → s3://housing-regression-data/processed/feature_engineered_train.csv\n",
      "⬆️ Uploading /Users/riadanas/Desktop/housing regression MLE/models/xgb_best_model.pkl → s3://housing-regression-data/models/xgb_best_model.pkl\n"
     ]
    }
   ],
   "source": [
    "import boto3\n",
    "from pathlib import Path\n",
    "\n",
    "# ---- Config ----\n",
    "bucket = \"housing-regression-data\"   # replace with your bucket name\n",
    "region = \"eu-west-2\"                 # your AWS region\n",
    "\n",
    "# Set project root as parent of the notebooks folder\n",
    "PROJECT_ROOT = Path.cwd().parent\n",
    "local_data_dir = PROJECT_ROOT / \"data\" / \"processed\"\n",
    "local_model_dir = PROJECT_ROOT / \"models\"\n",
    "\n",
    "s3 = boto3.client(\"s3\", region_name=region)\n",
    "\n",
    "# ---- Helper function ----\n",
    "def upload_file(local_path: Path, s3_key: str):\n",
    "    if not local_path.exists():\n",
    "        print(f\"❌ File not found: {local_path}\")\n",
    "        return\n",
    "    print(f\"⬆️ Uploading {local_path} → s3://{bucket}/{s3_key}\")\n",
    "    s3.upload_file(str(local_path), bucket, s3_key)\n",
    "\n",
    "# ---- Upload required datasets ----\n",
    "upload_file(local_data_dir / \"feature_engineered_holdout.csv\", \"processed/feature_engineered_holdout.csv\")\n",
    "upload_file(local_data_dir / \"cleaning_holdout.csv\", \"processed/cleaning_holdout.csv\")\n",
    "upload_file(local_data_dir / \"feature_engineered_train.csv\", \"processed/feature_engineered_train.csv\")\n",
    "\n",
    "# ---- Upload model ----\n",
    "upload_file(local_model_dir / \"xgb_best_model.pkl\", \"models/xgb_best_model.pkl\")"
   ]
  },
  {
   "cell_type": "code",
   "execution_count": null,
   "id": "34cabfdd",
   "metadata": {},
   "outputs": [],
   "source": []
  },
  {
   "cell_type": "code",
   "execution_count": null,
   "id": "fda5457e",
   "metadata": {},
   "outputs": [],
   "source": []
  }
 ],
 "metadata": {
  "kernelspec": {
   "display_name": "housing-regression-mle",
   "language": "python",
   "name": "python3"
  },
  "language_info": {
   "codemirror_mode": {
    "name": "ipython",
    "version": 3
   },
   "file_extension": ".py",
   "mimetype": "text/x-python",
   "name": "python",
   "nbconvert_exporter": "python",
   "pygments_lexer": "ipython3",
   "version": "3.11.12"
  }
 },
 "nbformat": 4,
 "nbformat_minor": 5
}
