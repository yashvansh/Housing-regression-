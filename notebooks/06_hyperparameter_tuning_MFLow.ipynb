{
 "cells": [
  {
   "cell_type": "code",
   "execution_count": 1,
   "id": "89cf7200",
   "metadata": {},
   "outputs": [
    {
     "name": "stdout",
     "output_type": "stream",
     "text": [
      "3.0.4\n"
     ]
    }
   ],
   "source": [
    "import xgboost as xgb\n",
    "print(xgb.__version__)"
   ]
  },
  {
   "cell_type": "code",
   "execution_count": 2,
   "id": "260096cb",
   "metadata": {},
   "outputs": [
    {
     "name": "stdout",
     "output_type": "stream",
     "text": [
      "/Users/riadanas/Desktop/housing regression MLE/.venv/bin/python\n",
      "3.0.4\n",
      "/Users/riadanas/Desktop/housing regression MLE/.venv/lib/python3.11/site-packages/xgboost/__init__.py\n"
     ]
    }
   ],
   "source": [
    "import sys, xgboost as xgb\n",
    "print(sys.executable)        # should point to .../.venv/bin/python\n",
    "print(xgb.__version__)       # should print 3.0.4\n",
    "print(xgb.__file__)          # should live under .../.venv/..."
   ]
  },
  {
   "cell_type": "code",
   "execution_count": 3,
   "id": "478bf394",
   "metadata": {},
   "outputs": [
    {
     "name": "stderr",
     "output_type": "stream",
     "text": [
      "/Users/riadanas/Desktop/housing regression MLE/.venv/lib/python3.11/site-packages/tqdm/auto.py:21: TqdmWarning: IProgress not found. Please update jupyter and ipywidgets. See https://ipywidgets.readthedocs.io/en/stable/user_install.html\n",
      "  from .autonotebook import tqdm as notebook_tqdm\n"
     ]
    }
   ],
   "source": [
    "# ==============================================\n",
    "# 1. Imports\n",
    "# ==============================================\n",
    "import pandas as pd\n",
    "import numpy as np\n",
    "from sklearn.metrics import mean_absolute_error, mean_squared_error, r2_score\n",
    "from xgboost import XGBRegressor\n",
    "import optuna\n",
    "import mlflow\n",
    "import mlflow.xgboost"
   ]
  },
  {
   "cell_type": "code",
   "execution_count": 4,
   "id": "a0bc804c",
   "metadata": {},
   "outputs": [
    {
     "name": "stdout",
     "output_type": "stream",
     "text": [
      "Train shape: (576815, 39)\n",
      "Eval shape: (148448, 39)\n"
     ]
    }
   ],
   "source": [
    "# ==============================================\n",
    "# 2. Load processed datasets\n",
    "# ==============================================\n",
    "train_df = pd.read_csv(\"/Users/riadanas/Desktop/housing regression MLE/data/processed/feature_engineered_train.csv\")\n",
    "eval_df  = pd.read_csv(\"/Users/riadanas/Desktop/housing regression MLE/data/processed/feature_engineered_eval.csv\")\n",
    "\n",
    "\n",
    "# Define target + features\n",
    "target = \"price\"\n",
    "X_train, y_train = train_df.drop(columns=[target]), train_df[target]\n",
    "X_eval, y_eval   = eval_df.drop(columns=[target]), eval_df[target]\n",
    "\n",
    "print(\"Train shape:\", X_train.shape)\n",
    "print(\"Eval shape:\", X_eval.shape)"
   ]
  },
  {
   "cell_type": "code",
   "execution_count": 5,
   "id": "fadb78cd",
   "metadata": {},
   "outputs": [],
   "source": [
    "# ==============================================\n",
    "# 3. Define Optuna objective function with MLflow\n",
    "# ==============================================\n",
    "def objective(trial):\n",
    "    params = {\n",
    "        \"n_estimators\": trial.suggest_int(\"n_estimators\", 200, 1000),\n",
    "        \"max_depth\": trial.suggest_int(\"max_depth\", 3, 10),\n",
    "        \"learning_rate\": trial.suggest_float(\"learning_rate\", 0.01, 0.3, log=True),\n",
    "        \"subsample\": trial.suggest_float(\"subsample\", 0.5, 1.0),\n",
    "        \"colsample_bytree\": trial.suggest_float(\"colsample_bytree\", 0.5, 1.0),\n",
    "        \"min_child_weight\": trial.suggest_int(\"min_child_weight\", 1, 10),\n",
    "        \"gamma\": trial.suggest_float(\"gamma\", 0.0, 5.0),\n",
    "        \"reg_alpha\": trial.suggest_float(\"reg_alpha\", 1e-8, 10.0, log=True),\n",
    "        \"reg_lambda\": trial.suggest_float(\"reg_lambda\", 1e-8, 10.0, log=True),\n",
    "        \"random_state\": 42,\n",
    "        \"n_jobs\": -1,\n",
    "        \"tree_method\": \"hist\",\n",
    "    }\n",
    "\n",
    "    with mlflow.start_run(nested=True):\n",
    "        model = XGBRegressor(**params)\n",
    "        model.fit(X_train, y_train)\n",
    "\n",
    "        y_pred = model.predict(X_eval)\n",
    "        rmse = float(np.sqrt(mean_squared_error(y_eval, y_pred)))\n",
    "        mae = float(mean_absolute_error(y_eval, y_pred))\n",
    "        r2 = float(r2_score(y_eval, y_pred))\n",
    "\n",
    "        # Log hyperparameters + metrics\n",
    "        mlflow.log_params(params)\n",
    "        mlflow.log_metrics({\"rmse\": rmse, \"mae\": mae, \"r2\": r2})\n",
    "\n",
    "    return rmse"
   ]
  },
  {
   "cell_type": "code",
   "execution_count": 6,
   "id": "4ed4b5f5",
   "metadata": {},
   "outputs": [
    {
     "name": "stderr",
     "output_type": "stream",
     "text": [
      "[I 2025-09-23 13:57:30,788] A new study created in memory with name: no-name-da5b8655-4c4b-43bb-8c2b-4d7782248669\n"
     ]
    },
    {
     "name": "stderr",
     "output_type": "stream",
     "text": [
      "[I 2025-09-23 13:57:36,431] Trial 0 finished with value: 81247.90176944395 and parameters: {'n_estimators': 554, 'max_depth': 3, 'learning_rate': 0.07915494836067737, 'subsample': 0.8137178495467532, 'colsample_bytree': 0.9247348183476795, 'min_child_weight': 1, 'gamma': 0.4037929929888301, 'reg_alpha': 2.3441361115415284e-06, 'reg_lambda': 0.8510701474431667}. Best is trial 0 with value: 81247.90176944395.\n",
      "[I 2025-09-23 13:57:49,043] Trial 1 finished with value: 70806.44227307769 and parameters: {'n_estimators': 595, 'max_depth': 9, 'learning_rate': 0.17279473643326876, 'subsample': 0.8355873559432827, 'colsample_bytree': 0.5810251128079091, 'min_child_weight': 10, 'gamma': 4.677804213446263, 'reg_alpha': 9.351424858977932e-06, 'reg_lambda': 0.00013022332082416647}. Best is trial 1 with value: 70806.44227307769.\n",
      "[I 2025-09-23 13:58:04,550] Trial 2 finished with value: 71839.04852288461 and parameters: {'n_estimators': 535, 'max_depth': 10, 'learning_rate': 0.12213106636341217, 'subsample': 0.7344354271267435, 'colsample_bytree': 0.888773698584888, 'min_child_weight': 8, 'gamma': 0.10388393159469211, 'reg_alpha': 9.962621816601058e-05, 'reg_lambda': 1.7083853978635344e-05}. Best is trial 1 with value: 70806.44227307769.\n",
      "[I 2025-09-23 13:58:15,049] Trial 3 finished with value: 72740.06002815528 and parameters: {'n_estimators': 544, 'max_depth': 8, 'learning_rate': 0.040368140777994076, 'subsample': 0.7476267629169737, 'colsample_bytree': 0.8720383466030115, 'min_child_weight': 5, 'gamma': 2.0542739571450137, 'reg_alpha': 6.048661802709202e-06, 'reg_lambda': 0.0009113446738525107}. Best is trial 1 with value: 70806.44227307769.\n",
      "[I 2025-09-23 13:58:25,095] Trial 4 finished with value: 68544.69022911381 and parameters: {'n_estimators': 446, 'max_depth': 9, 'learning_rate': 0.028458141898131586, 'subsample': 0.8970372115260677, 'colsample_bytree': 0.6867337932853605, 'min_child_weight': 9, 'gamma': 2.804950513221669, 'reg_alpha': 1.1884539469908749e-07, 'reg_lambda': 1.7062403052654664}. Best is trial 4 with value: 68544.69022911381.\n",
      "[I 2025-09-23 13:58:34,857] Trial 5 finished with value: 74586.69093978665 and parameters: {'n_estimators': 968, 'max_depth': 4, 'learning_rate': 0.0339726288900494, 'subsample': 0.8152413106211902, 'colsample_bytree': 0.7311124930187773, 'min_child_weight': 1, 'gamma': 4.672043552819015, 'reg_alpha': 0.027603006292237352, 'reg_lambda': 0.018534611904643773}. Best is trial 4 with value: 68544.69022911381.\n",
      "[I 2025-09-23 13:58:53,851] Trial 6 finished with value: 75994.12965790062 and parameters: {'n_estimators': 847, 'max_depth': 9, 'learning_rate': 0.24634804305703292, 'subsample': 0.6829911503881054, 'colsample_bytree': 0.618746289655721, 'min_child_weight': 2, 'gamma': 3.987719689920624, 'reg_alpha': 0.06616975136232141, 'reg_lambda': 1.0559346731134678}. Best is trial 4 with value: 68544.69022911381.\n",
      "[I 2025-09-23 13:59:01,813] Trial 7 finished with value: 74410.76206629591 and parameters: {'n_estimators': 318, 'max_depth': 9, 'learning_rate': 0.18845237306373724, 'subsample': 0.7786959914212636, 'colsample_bytree': 0.9557063240273638, 'min_child_weight': 1, 'gamma': 0.5827806030717847, 'reg_alpha': 2.9313505001091114e-07, 'reg_lambda': 9.875608534545588e-07}. Best is trial 4 with value: 68544.69022911381.\n",
      "[I 2025-09-23 13:59:05,841] Trial 8 finished with value: 75980.23107476301 and parameters: {'n_estimators': 259, 'max_depth': 6, 'learning_rate': 0.06480175297349004, 'subsample': 0.6649510305101487, 'colsample_bytree': 0.946527873103504, 'min_child_weight': 4, 'gamma': 0.20395100673438082, 'reg_alpha': 1.7811170544013453e-08, 'reg_lambda': 2.2053695998877684e-07}. Best is trial 4 with value: 68544.69022911381.\n",
      "[I 2025-09-23 13:59:10,306] Trial 9 finished with value: 70247.35622255465 and parameters: {'n_estimators': 320, 'max_depth': 6, 'learning_rate': 0.07166579602616285, 'subsample': 0.6550748096723962, 'colsample_bytree': 0.5204120738919883, 'min_child_weight': 5, 'gamma': 0.5530265874966722, 'reg_alpha': 0.03986353661044713, 'reg_lambda': 0.011858556207159823}. Best is trial 4 with value: 68544.69022911381.\n",
      "[I 2025-09-23 13:59:21,851] Trial 10 finished with value: 72241.26503484345 and parameters: {'n_estimators': 747, 'max_depth': 7, 'learning_rate': 0.011855082341202187, 'subsample': 0.9867376575886183, 'colsample_bytree': 0.7472508309473854, 'min_child_weight': 8, 'gamma': 2.8927855198865915, 'reg_alpha': 1.7523197598704765e-08, 'reg_lambda': 6.675705939209017}. Best is trial 4 with value: 68544.69022911381.\n",
      "[I 2025-09-23 13:59:27,083] Trial 11 finished with value: 74017.47056994433 and parameters: {'n_estimators': 355, 'max_depth': 6, 'learning_rate': 0.02244438541120768, 'subsample': 0.5705071524617104, 'colsample_bytree': 0.50532911166094, 'min_child_weight': 7, 'gamma': 1.8698577587764387, 'reg_alpha': 8.521962970288836, 'reg_lambda': 0.01877902122006826}. Best is trial 4 with value: 68544.69022911381.\n",
      "[I 2025-09-23 13:59:32,897] Trial 12 finished with value: 81223.01363727795 and parameters: {'n_estimators': 415, 'max_depth': 5, 'learning_rate': 0.015268747854054238, 'subsample': 0.9500940831780921, 'colsample_bytree': 0.6678729123940514, 'min_child_weight': 4, 'gamma': 3.071292305914608, 'reg_alpha': 0.004715890216879514, 'reg_lambda': 0.03362087566955244}. Best is trial 4 with value: 68544.69022911381.\n",
      "[I 2025-09-23 13:59:40,370] Trial 13 finished with value: 71986.85545682478 and parameters: {'n_estimators': 437, 'max_depth': 7, 'learning_rate': 0.026594430804303144, 'subsample': 0.5238908475022437, 'colsample_bytree': 0.8137229346480591, 'min_child_weight': 10, 'gamma': 1.3435008882542052, 'reg_alpha': 3.9421427328428527, 'reg_lambda': 0.15103990023068561}. Best is trial 4 with value: 68544.69022911381.\n",
      "[I 2025-09-23 13:59:43,160] Trial 14 finished with value: 76848.86415384215 and parameters: {'n_estimators': 204, 'max_depth': 5, 'learning_rate': 0.05492926733763265, 'subsample': 0.9000612471391017, 'colsample_bytree': 0.5688566934580195, 'min_child_weight': 6, 'gamma': 3.4730072864640427, 'reg_alpha': 0.0007417435790779168, 'reg_lambda': 0.0008358764624822283}. Best is trial 4 with value: 68544.69022911381.\n"
     ]
    },
    {
     "name": "stdout",
     "output_type": "stream",
     "text": [
      "Best params: {'n_estimators': 446, 'max_depth': 9, 'learning_rate': 0.028458141898131586, 'subsample': 0.8970372115260677, 'colsample_bytree': 0.6867337932853605, 'min_child_weight': 9, 'gamma': 2.804950513221669, 'reg_alpha': 1.1884539469908749e-07, 'reg_lambda': 1.7062403052654664}\n"
     ]
    }
   ],
   "source": [
    "# ==============================================\n",
    "# 4. Run Optuna study with MLflow\n",
    "# ==============================================\n",
    "# Force MLflow to always use the root project mlruns folder\n",
    "mlflow.set_tracking_uri(\"/Users/riadanas/Desktop/housing regression MLE/mlruns\")\n",
    "mlflow.set_experiment(\"xgboost_optuna_housing\")\n",
    "\n",
    "study = optuna.create_study(direction=\"minimize\")\n",
    "study.optimize(objective, n_trials=15)\n",
    "\n",
    "print(\"Best params:\", study.best_trial.params)"
   ]
  },
  {
   "cell_type": "code",
   "execution_count": 7,
   "id": "21b8c223",
   "metadata": {},
   "outputs": [
    {
     "name": "stdout",
     "output_type": "stream",
     "text": [
      "Final tuned model performance:\n",
      "MAE: 31472.002185832847\n",
      "RMSE: 70459.0823185452\n",
      "R²: 0.9616351065691122\n"
     ]
    },
    {
     "name": "stderr",
     "output_type": "stream",
     "text": [
      "/Users/riadanas/Desktop/housing regression MLE/.venv/lib/python3.11/site-packages/xgboost/sklearn.py:1028: UserWarning: [13:59:53] WARNING: /Users/runner/work/xgboost/xgboost/src/c_api/c_api.cc:1427: Saving model in the UBJSON format as default.  You can use file extension: `json`, `ubj` or `deprecated` to choose between formats.\n",
      "  self.get_booster().save_model(fname)\n",
      "2025/09/23 13:59:56 WARNING mlflow.utils.environment: Failed to resolve installed pip version. ``pip`` will be added to conda.yaml environment spec without a version specifier.\n",
      "\u001b[31m2025/09/23 13:59:56 WARNING mlflow.models.model: Model logged without a signature and input example. Please set `input_example` parameter when logging the model to auto infer the model signature.\u001b[0m\n"
     ]
    }
   ],
   "source": [
    "# ==============================================\n",
    "# 5. Train final model with best params and log to MLflow\n",
    "# ==============================================\n",
    "best_params = study.best_trial.params\n",
    "best_model = XGBRegressor(**best_params)\n",
    "best_model.fit(X_train, y_train)\n",
    "\n",
    "y_pred = best_model.predict(X_eval)\n",
    "\n",
    "mae = mean_absolute_error(y_eval, y_pred)\n",
    "rmse = np.sqrt(mean_squared_error(y_eval, y_pred))\n",
    "r2 = r2_score(y_eval, y_pred)\n",
    "\n",
    "print(\"Final tuned model performance:\")\n",
    "print(\"MAE:\", mae)\n",
    "print(\"RMSE:\", rmse)\n",
    "print(\"R²:\", r2)\n",
    "\n",
    "# Log final model\n",
    "with mlflow.start_run(run_name=\"best_xgboost_model\"):\n",
    "    mlflow.log_params(best_params)\n",
    "    mlflow.log_metrics({\"rmse\": rmse, \"mae\": mae, \"r2\": r2})\n",
    "    mlflow.xgboost.log_model(best_model, name=\"model\")"
   ]
  },
  {
   "cell_type": "code",
   "execution_count": null,
   "id": "be1c1be9",
   "metadata": {},
   "outputs": [],
   "source": []
  }
 ],
 "metadata": {
  "kernelspec": {
   "display_name": "housing-regression-mle",
   "language": "python",
   "name": "python3"
  },
  "language_info": {
   "codemirror_mode": {
    "name": "ipython",
    "version": 3
   },
   "file_extension": ".py",
   "mimetype": "text/x-python",
   "name": "python",
   "nbconvert_exporter": "python",
   "pygments_lexer": "ipython3",
   "version": "3.11.12"
  }
 },
 "nbformat": 4,
 "nbformat_minor": 5
}
